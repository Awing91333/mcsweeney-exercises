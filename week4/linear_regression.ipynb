{
 "cells": [
  {
   "cell_type": "code",
   "execution_count": 2,
   "metadata": {},
   "outputs": [],
   "source": [
    "import pandas as pd\n",
    "from sklearn.model_selection import train_test_split\n",
    "flights = pd.read_csv('data/flight_prices.csv')\n",
    "flights.describe()\n",
    "\n",
    "\n",
    "X_train, X_test, y_train, y_test = train_test_split(flights.copy().drop('price', axis=1), flights['price'], test_size=0.2, random_state=43)\n"
   ]
  },
  {
   "cell_type": "markdown",
   "metadata": {},
   "source": [
    "# Exercise\n",
    "Using the below as a starting point, see if you can improve beat the MSE found.  Consider using feature enhacnements:\n",
    "\n",
    "* feature engineering\n",
    "* regularization\n",
    "* additional pre-processing."
   ]
  },
  {
   "cell_type": "code",
   "execution_count": 3,
   "metadata": {},
   "outputs": [
    {
     "name": "stdout",
     "output_type": "stream",
     "text": [
      "RMSE: 6189.550221198623\n"
     ]
    }
   ],
   "source": [
    "import numpy as np\n",
    "from sklearn.metrics import mean_squared_error\n",
    "from sklearn.linear_model import LinearRegression\n",
    "from sklearn.compose import ColumnTransformer\n",
    "from sklearn.pipeline import Pipeline\n",
    "from sklearn.preprocessing import StandardScaler, OneHotEncoder\n",
    "from sklearn.impute import SimpleImputer\n",
    "\n",
    "\n",
    "num_attribs = ['duration', 'days_left']\n",
    "cat_attribs = ['airline', 'flight', 'source_city', 'departure_time', 'stops', 'arrival_time', 'destination_city', 'class' ]\n",
    "\n",
    "num_pipeline = Pipeline([\n",
    "        ('imputer', SimpleImputer(strategy=\"median\")),\n",
    "        ('std_scaler', StandardScaler()),\n",
    "    ])    \n",
    "\n",
    "feature_pipeline = ColumnTransformer([\n",
    "        (\"num\", num_pipeline, num_attribs),\n",
    "        (\"cat\", OneHotEncoder(handle_unknown='ignore'), cat_attribs),\n",
    "    ])\n",
    "\n",
    "regression = Pipeline(\n",
    "    steps=[(\"preprocessor\", feature_pipeline), \n",
    "           (\"regression\", LinearRegression())]\n",
    ")\n",
    "\n",
    "regression.fit(X_train, y_train)\n",
    "predictions = regression.predict(X_test)\n",
    "mse = mean_squared_error(y_test, predictions)\n",
    "print(f'RMSE: {np.sqrt(mse)}')\n"
   ]
  }
 ],
 "metadata": {
  "kernelspec": {
   "display_name": "Python 3",
   "language": "python",
   "name": "python3"
  },
  "language_info": {
   "codemirror_mode": {
    "name": "ipython",
    "version": 3
   },
   "file_extension": ".py",
   "mimetype": "text/x-python",
   "name": "python",
   "nbconvert_exporter": "python",
   "pygments_lexer": "ipython3",
   "version": "3.10.13"
  }
 },
 "nbformat": 4,
 "nbformat_minor": 2
}
