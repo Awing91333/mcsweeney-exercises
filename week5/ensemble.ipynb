{
 "cells": [
  {
   "cell_type": "code",
   "execution_count": null,
   "metadata": {},
   "outputs": [],
   "source": [
    "%matplotlib inline\n",
    "import matplotlib.pyplot as plt\n",
    "from matplotlib.colors import ListedColormap\n",
    "from sklearn.datasets import make_moons\n",
    "from sklearn.model_selection import train_test_split\n",
    "\n",
    "datasets = []\n",
    "datasets.append(make_moons(500, noise=0.3, random_state=0x1701a))\n",
    "datasets.append(make_moons(500, noise=0.3, random_state=0x1701b))\n",
    "\n",
    "plt.figure(figsize=(10, 5))\n",
    "for idx in range(2):\n",
    "    X, y = datasets[idx]\n",
    "    plt.subplot(1, 2, idx+1)\n",
    "    plt.scatter(X[:, 0], X[:, 1], cmap = ListedColormap(['#880000', '#000088']), c=y)\n",
    "    plt.title(\"Sample Dataset {}: \".format(idx+1))\n",
    "plt.show()\n",
    "\n",
    "X1, y1 = datasets[0]\n",
    "xTrain1, xTest1, yTrain1, yTest1 = train_test_split(X1, y1, test_size=0.1, random_state=42)\n",
    "\n",
    "X2, y2 = datasets[1]\n",
    "xTrain2, xTest2, yTrain2, yTest2 = train_test_split(X2, y2, test_size=0.1, random_state=42)\n",
    "\n",
    "\n",
    "xTrain = [xTrain1, xTrain2]\n",
    "xTest = [xTest1, xTest2]\n",
    "yTrain = [yTrain1, yTrain2]\n",
    "yTest = [yTest1, yTest2]"
   ]
  },
  {
   "cell_type": "code",
   "execution_count": null,
   "metadata": {},
   "outputs": [],
   "source": [
    "### Grab the model ###\n",
    "from sklearn.tree import DecisionTreeClassifier\n",
    "import numpy as np\n",
    "from sklearn.metrics import roc_curve, auc\n",
    "\n",
    "def plot_surface(model, X, y) :\n",
    "    x_min, x_max = X[:, 0].min() - .1, X[:, 0].max() + .1\n",
    "    y_min, y_max = X[:, 1].min() - .1, X[:, 1].max() + .1\n",
    "    xx, yy = np.meshgrid(np.arange(x_min, x_max, 0.01), np.arange(y_min, y_max, 0.01))\n",
    "    X_grid = np.c_[xx.ravel(), yy.ravel()]\n",
    "    \n",
    "    # Predict\n",
    "    z = model.predict(X_grid)\n",
    "    z = z.reshape(xx.shape)\n",
    "    \n",
    "    # Plot\n",
    "    plt.contourf(xx, yy, z, cmap='RdBu', alpha=.8)\n",
    "    plt.scatter(X[:,0],X[:,1], cmap = ListedColormap(['#880000', '#000088']), c = y)\n",
    "    \n",
    "def train_test_model(model_factory):\n",
    "    # Plot them all together\n",
    "    plt.figure(figsize=(20,10))\n",
    "    for d in range(2):\n",
    "        plt.subplot(1, 2, d+1)\n",
    "        # x_train, y_train = datasets[d]\n",
    "        model = model_factory()\n",
    "        model.fit(xTrain[d], yTrain[d])\n",
    "        plot_surface(model, xTrain[d], yTrain[d])\n",
    "        \n",
    "        training_pred = model.predict(xTrain[d])\n",
    "        fpr, tpr, _ = roc_curve(training_pred, yTrain[d])\n",
    "        roc_auc = auc(fpr, tpr)\n",
    "        print(f'Training AUC: {roc_auc}')\n",
    "\n",
    "        test_pred = model.predict(xTest[d])\n",
    "        fpr_test, tpr_test, _ = roc_curve(test_pred, yTest[d])\n",
    "        roc_auc_test = auc(fpr_test, tpr_test)\n",
    "        print(f'Test AUC: {roc_auc_test}')\n",
    "\n",
    "\n",
    "plt.show()"
   ]
  },
  {
   "cell_type": "code",
   "execution_count": null,
   "metadata": {},
   "outputs": [],
   "source": [
    "\n",
    "def decisionTreeFactory():\n",
    "    return DecisionTreeClassifier()\n",
    "\n",
    "train_test_model(decisionTreeFactory)\n"
   ]
  },
  {
   "cell_type": "code",
   "execution_count": null,
   "metadata": {},
   "outputs": [],
   "source": [
    "from sklearn.ensemble import RandomForestClassifier\n",
    "\n",
    "def randomForestFactory():\n",
    "    return RandomForestClassifier()\n",
    "\n",
    "train_test_model(randomForestFactory)\n"
   ]
  },
  {
   "cell_type": "code",
   "execution_count": null,
   "metadata": {},
   "outputs": [],
   "source": [
    "from sklearn.ensemble import ExtraTreesClassifier\n",
    "\n",
    "def extraTreeFactory():\n",
    "    return ExtraTreesClassifier()\n",
    "\n",
    "train_test_model(extraTreeFactory)\n"
   ]
  }
 ],
 "metadata": {
  "kernelspec": {
   "display_name": "Python 3",
   "language": "python",
   "name": "python3"
  },
  "language_info": {
   "codemirror_mode": {
    "name": "ipython",
    "version": 3
   },
   "file_extension": ".py",
   "mimetype": "text/x-python",
   "name": "python",
   "nbconvert_exporter": "python",
   "pygments_lexer": "ipython3",
   "version": "3.10.13"
  }
 },
 "nbformat": 4,
 "nbformat_minor": 2
}
